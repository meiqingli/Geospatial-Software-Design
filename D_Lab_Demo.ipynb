{
  "nbformat": 4,
  "nbformat_minor": 0,
  "metadata": {
    "colab": {
      "provenance": [],
      "toc_visible": true,
      "machine_shape": "hm",
      "gpuClass": "premium",
      "include_colab_link": true
    },
    "kernelspec": {
      "name": "python3",
      "display_name": "Python 3"
    },
    "language_info": {
      "name": "python"
    },
    "accelerator": "GPU",
    "gpuClass": "premium"
  },
  "cells": [
    {
      "cell_type": "markdown",
      "metadata": {
        "id": "view-in-github",
        "colab_type": "text"
      },
      "source": [
        "<a href=\"https://colab.research.google.com/github/meiqingli/Geospatial-Software-Design/blob/master/D_Lab_Demo.ipynb\" target=\"_parent\"><img src=\"https://colab.research.google.com/assets/colab-badge.svg\" alt=\"Open In Colab\"/></a>"
      ]
    },
    {
      "cell_type": "markdown",
      "source": [
        "# Extracting Time-Series Satellite Images with Google Earth Engine Python API\n",
        "\n",
        "by: Meiqing Li (meiqing@berkeley.edu), D-Lab Data Science Fellow"
      ],
      "metadata": {
        "id": "SaH3f2dFcaUX"
      }
    },
    {
      "cell_type": "markdown",
      "source": [
        "This notebook demonstrates the process to filter, classify, resample, and visualiza time-series satellite images using Google Earth Engine Python API."
      ],
      "metadata": {
        "id": "B7DRqpDVnnbQ"
      }
    },
    {
      "cell_type": "markdown",
      "source": [
        "### API Setup: import, authenticate and initialize\n",
        "\n",
        "Beofre running the code, we need to first import the Google Earth Enginer API. Since the Earth Engine API is installed by default in Google Colaboratory, I don't need to install it here."
      ],
      "metadata": {
        "id": "wlgRqNYJptdf"
      }
    },
    {
      "cell_type": "code",
      "source": [
        "import ee"
      ],
      "metadata": {
        "id": "AgcpSljwcg4X"
      },
      "execution_count": 4,
      "outputs": []
    },
    {
      "cell_type": "markdown",
      "source": [
        "This will trigger the authentication flow of Google Earth Engine. We will follow the url, which will bring us to the authentication steps. Copy and paste the provided token. Once it is successfullly authorized, we can proceed with our analysis."
      ],
      "metadata": {
        "id": "5XM03xlKrzWk"
      }
    },
    {
      "cell_type": "code",
      "source": [
        "# Trigger the authentication flow.\n",
        "ee.Authenticate()\n",
        "\n",
        "# Initialize the library.\n",
        "ee.Initialize(project='ee-meiqingli')"
      ],
      "metadata": {
        "id": "SSUqL6yncr3R"
      },
      "execution_count": 8,
      "outputs": []
    },
    {
      "cell_type": "markdown",
      "source": [
        "### Explore Earth Engine Data Catalog\n",
        "\n",
        "There are a lot of things we can explore wih Google Earth Engine. [The Earth Engine Data Catalog](https://developers.google.com/earth-engine/datasets/catalog) has a collection of public raster datasets which we can import directly to our projects by referring to the \"Earth Engine Snippet\". The two datasets we will use for this notebook are: 1)[CCNL: Consistent And Corrected Nighttime Light Dataset from DMSP-OLS (1992-2013)](https://developers.google.com/earth-engine/datasets/catalog/BNU_FGS_CCNL_v1); 2)[VIIRS Stray Light Corrected Nighttime Day/Night Band Composites Version 1](https://developers.google.com/earth-engine/datasets/catalog/NOAA_VIIRS_DNB_MONTHLY_V1_VCMSLCFG#description)."
      ],
      "metadata": {
        "id": "VBo55HAZriPD"
      }
    },
    {
      "cell_type": "markdown",
      "source": [
        "##### DMSP/OLS\n",
        "\n"
      ],
      "metadata": {
        "id": "9zu41KbJM_Rl"
      }
    },
    {
      "cell_type": "code",
      "source": [
        "## import DMSP OLS Nighttime Lights (1992-01-01 - 2014-01-01)\n",
        "# select band and filter date\n",
        "DMSP = ee.ImageCollection('BNU/FGS/CCNL/v1').select('b1').filterDate('1992-01-01', '2014-01-01')"
      ],
      "metadata": {
        "id": "_I6mxDW3iwNM"
      },
      "execution_count": 9,
      "outputs": []
    },
    {
      "cell_type": "markdown",
      "source": [
        "##### VIIRS"
      ],
      "metadata": {
        "id": "kPJseGcpNAGX"
      }
    },
    {
      "cell_type": "code",
      "source": [
        "## import VIIRS Nighttime Lights (2014-01-01 - 2022-11-01)\n",
        "# select band and filter date\n",
        "VIIRS = ee.ImageCollection('NOAA/VIIRS/DNB/MONTHLY_V1/VCMSLCFG').select('avg_rad').filterDate('2014-01-01', '2022-01-01')"
      ],
      "metadata": {
        "id": "eyoithWeNFWc"
      },
      "execution_count": 10,
      "outputs": []
    },
    {
      "cell_type": "markdown",
      "source": [
        "### Import Features\n",
        "\n",
        "We can also [upload](https://developers.google.com/earth-engine/guides/table_upload) our own feature tables to Google Earth Engine, and import to our project. Here I import the California county and state boundaries which were uploaded from shapefiles.\n"
      ],
      "metadata": {
        "id": "iVP-u2tbd16t"
      }
    },
    {
      "cell_type": "code",
      "source": [
        "# I have uploaded CA county and state boundaries through GEE console (add more description here)\n",
        "# import features\n",
        "CACounty = ee.FeatureCollection(\"projects/spherical-depth-278922/assets/California_County_Boundaries\")\n",
        "CAState = ee.FeatureCollection(\"projects/ee-meiqingli/assets/CAState\")"
      ],
      "metadata": {
        "id": "KDcTm7aid_DY"
      },
      "execution_count": 11,
      "outputs": []
    },
    {
      "cell_type": "markdown",
      "source": [
        "### Get time-series data for a location\n",
        "\n",
        "We can get the time-series data around a selected location. For example, the coordinate for UC Berkeley is [37.8719, -122.2585]. We can use `.getRegion()` to calculate the average nighttime light intensity across years around UC Berkeley from both DMSP/OLS and VIIRS datasets.\n",
        "\n"
      ],
      "metadata": {
        "id": "z5KLXs6lTMu8"
      }
    },
    {
      "cell_type": "code",
      "source": [
        "## Calculate the mean value around a location using the `getRegion()` method\n",
        "# DMSP/OLS\n",
        "poi = ee.Geometry.Point([-122.3790, 37.6213]) # note [lon, lat]\n",
        "scale = 30\n",
        "\n",
        "DMSP_poi = DMSP.getRegion(poi, scale).getInfo()\n",
        "\n",
        "# preview the result\n",
        "DMSP_poi[:5]"
      ],
      "metadata": {
        "colab": {
          "base_uri": "https://localhost:8080/"
        },
        "id": "-WS73gBCTM8E",
        "outputId": "dfe5aa42-374c-4e78-85de-ccc3bfb50138"
      },
      "execution_count": 12,
      "outputs": [
        {
          "output_type": "execute_result",
          "data": {
            "text/plain": [
              "[['id', 'longitude', 'latitude', 'time', 'b1'],\n",
              " ['DMSP1992v1',\n",
              "  -122.37897337582122,\n",
              "  37.621309351632945,\n",
              "  694224000000,\n",
              "  67.76784695621606],\n",
              " ['DMSP1993v1',\n",
              "  -122.37897337582122,\n",
              "  37.621309351632945,\n",
              "  725846400000,\n",
              "  56.66487062392774],\n",
              " ['DMSP1994v1',\n",
              "  -122.37897337582122,\n",
              "  37.621309351632945,\n",
              "  757382400000,\n",
              "  81.95031347136096],\n",
              " ['DMSP1995v1',\n",
              "  -122.37897337582122,\n",
              "  37.621309351632945,\n",
              "  788918400000,\n",
              "  91.53101235005826]]"
            ]
          },
          "metadata": {},
          "execution_count": 12
        }
      ]
    },
    {
      "cell_type": "code",
      "source": [
        "# VIIRS\n",
        "VIIRS_poi = VIIRS.getRegion(poi, scale).getInfo()\n",
        "\n",
        "# preview the result\n",
        "VIIRS_poi[:5]"
      ],
      "metadata": {
        "colab": {
          "base_uri": "https://localhost:8080/"
        },
        "id": "aNDSoD1uezu7",
        "outputId": "e91bc12d-b9a5-4813-8248-4aa614cf299d"
      },
      "execution_count": 13,
      "outputs": [
        {
          "output_type": "execute_result",
          "data": {
            "text/plain": [
              "[['id', 'longitude', 'latitude', 'time', 'avg_rad'],\n",
              " ['20140101',\n",
              "  -122.37897337582122,\n",
              "  37.621309351632945,\n",
              "  1388534400000,\n",
              "  55.463462829589844],\n",
              " ['20140201',\n",
              "  -122.37897337582122,\n",
              "  37.621309351632945,\n",
              "  1391212800000,\n",
              "  72.19701385498047],\n",
              " ['20140301',\n",
              "  -122.37897337582122,\n",
              "  37.621309351632945,\n",
              "  1393632000000,\n",
              "  60.484066009521484],\n",
              " ['20140401',\n",
              "  -122.37897337582122,\n",
              "  37.621309351632945,\n",
              "  1396310400000,\n",
              "  63.16453170776367]]"
            ]
          },
          "metadata": {},
          "execution_count": 13
        }
      ]
    },
    {
      "cell_type": "markdown",
      "source": [
        "To make it easier to access the data, we transform the time-series data into pandas dataframes and convert time to datetime format."
      ],
      "metadata": {
        "id": "4DcZn37KoQUG"
      }
    },
    {
      "cell_type": "code",
      "source": [
        "import pandas as pd\n",
        "\n",
        "def ee_array_to_df(arr, list_of_bands):\n",
        "    \"\"\"Transforms client-side ee.Image.getRegion array to pandas.DataFrame.\"\"\"\n",
        "    df = pd.DataFrame(arr)\n",
        "\n",
        "    # Rearrange the header.\n",
        "    headers = df.iloc[0]\n",
        "    df = pd.DataFrame(df.values[1:], columns=headers)\n",
        "\n",
        "    # Remove rows without data inside.\n",
        "    df = df[['longitude', 'latitude', 'time', *list_of_bands]].dropna()\n",
        "\n",
        "    # Convert the data to numeric values.\n",
        "    for band in list_of_bands:\n",
        "        df[band] = pd.to_numeric(df[band], errors='coerce')\n",
        "\n",
        "    # Convert the time field into a datetime.\n",
        "    df['datetime'] = pd.to_datetime(df['time'], unit='ms')\n",
        "\n",
        "    # Keep the columns of interest.\n",
        "    df = df[['time','datetime',  *list_of_bands]]\n",
        "\n",
        "    return df"
      ],
      "metadata": {
        "id": "zCRdD5bqntS_"
      },
      "execution_count": 14,
      "outputs": []
    },
    {
      "cell_type": "code",
      "source": [
        "# select band of interest\n",
        "dmsp_poi = ee_array_to_df(DMSP_poi,['b1'])\n",
        "viirs_poi = ee_array_to_df(VIIRS_poi,['avg_rad'])\n",
        "\n",
        "viirs_poi.head()"
      ],
      "metadata": {
        "colab": {
          "base_uri": "https://localhost:8080/",
          "height": 206
        },
        "id": "YoRvkwZUntVn",
        "outputId": "bef98536-71ef-4a1f-98e6-315afa516af9"
      },
      "execution_count": 15,
      "outputs": [
        {
          "output_type": "execute_result",
          "data": {
            "text/plain": [
              "0           time   datetime    avg_rad\n",
              "0  1388534400000 2014-01-01  55.463463\n",
              "1  1391212800000 2014-02-01  72.197014\n",
              "2  1393632000000 2014-03-01  60.484066\n",
              "3  1396310400000 2014-04-01  63.164532\n",
              "4  1398902400000 2014-05-01  52.005966"
            ],
            "text/html": [
              "\n",
              "  <div id=\"df-5f9a0432-c077-4928-a7dd-9666784be140\" class=\"colab-df-container\">\n",
              "    <div>\n",
              "<style scoped>\n",
              "    .dataframe tbody tr th:only-of-type {\n",
              "        vertical-align: middle;\n",
              "    }\n",
              "\n",
              "    .dataframe tbody tr th {\n",
              "        vertical-align: top;\n",
              "    }\n",
              "\n",
              "    .dataframe thead th {\n",
              "        text-align: right;\n",
              "    }\n",
              "</style>\n",
              "<table border=\"1\" class=\"dataframe\">\n",
              "  <thead>\n",
              "    <tr style=\"text-align: right;\">\n",
              "      <th></th>\n",
              "      <th>time</th>\n",
              "      <th>datetime</th>\n",
              "      <th>avg_rad</th>\n",
              "    </tr>\n",
              "  </thead>\n",
              "  <tbody>\n",
              "    <tr>\n",
              "      <th>0</th>\n",
              "      <td>1388534400000</td>\n",
              "      <td>2014-01-01</td>\n",
              "      <td>55.463463</td>\n",
              "    </tr>\n",
              "    <tr>\n",
              "      <th>1</th>\n",
              "      <td>1391212800000</td>\n",
              "      <td>2014-02-01</td>\n",
              "      <td>72.197014</td>\n",
              "    </tr>\n",
              "    <tr>\n",
              "      <th>2</th>\n",
              "      <td>1393632000000</td>\n",
              "      <td>2014-03-01</td>\n",
              "      <td>60.484066</td>\n",
              "    </tr>\n",
              "    <tr>\n",
              "      <th>3</th>\n",
              "      <td>1396310400000</td>\n",
              "      <td>2014-04-01</td>\n",
              "      <td>63.164532</td>\n",
              "    </tr>\n",
              "    <tr>\n",
              "      <th>4</th>\n",
              "      <td>1398902400000</td>\n",
              "      <td>2014-05-01</td>\n",
              "      <td>52.005966</td>\n",
              "    </tr>\n",
              "  </tbody>\n",
              "</table>\n",
              "</div>\n",
              "    <div class=\"colab-df-buttons\">\n",
              "\n",
              "  <div class=\"colab-df-container\">\n",
              "    <button class=\"colab-df-convert\" onclick=\"convertToInteractive('df-5f9a0432-c077-4928-a7dd-9666784be140')\"\n",
              "            title=\"Convert this dataframe to an interactive table.\"\n",
              "            style=\"display:none;\">\n",
              "\n",
              "  <svg xmlns=\"http://www.w3.org/2000/svg\" height=\"24px\" viewBox=\"0 -960 960 960\">\n",
              "    <path d=\"M120-120v-720h720v720H120Zm60-500h600v-160H180v160Zm220 220h160v-160H400v160Zm0 220h160v-160H400v160ZM180-400h160v-160H180v160Zm440 0h160v-160H620v160ZM180-180h160v-160H180v160Zm440 0h160v-160H620v160Z\"/>\n",
              "  </svg>\n",
              "    </button>\n",
              "\n",
              "  <style>\n",
              "    .colab-df-container {\n",
              "      display:flex;\n",
              "      gap: 12px;\n",
              "    }\n",
              "\n",
              "    .colab-df-convert {\n",
              "      background-color: #E8F0FE;\n",
              "      border: none;\n",
              "      border-radius: 50%;\n",
              "      cursor: pointer;\n",
              "      display: none;\n",
              "      fill: #1967D2;\n",
              "      height: 32px;\n",
              "      padding: 0 0 0 0;\n",
              "      width: 32px;\n",
              "    }\n",
              "\n",
              "    .colab-df-convert:hover {\n",
              "      background-color: #E2EBFA;\n",
              "      box-shadow: 0px 1px 2px rgba(60, 64, 67, 0.3), 0px 1px 3px 1px rgba(60, 64, 67, 0.15);\n",
              "      fill: #174EA6;\n",
              "    }\n",
              "\n",
              "    .colab-df-buttons div {\n",
              "      margin-bottom: 4px;\n",
              "    }\n",
              "\n",
              "    [theme=dark] .colab-df-convert {\n",
              "      background-color: #3B4455;\n",
              "      fill: #D2E3FC;\n",
              "    }\n",
              "\n",
              "    [theme=dark] .colab-df-convert:hover {\n",
              "      background-color: #434B5C;\n",
              "      box-shadow: 0px 1px 3px 1px rgba(0, 0, 0, 0.15);\n",
              "      filter: drop-shadow(0px 1px 2px rgba(0, 0, 0, 0.3));\n",
              "      fill: #FFFFFF;\n",
              "    }\n",
              "  </style>\n",
              "\n",
              "    <script>\n",
              "      const buttonEl =\n",
              "        document.querySelector('#df-5f9a0432-c077-4928-a7dd-9666784be140 button.colab-df-convert');\n",
              "      buttonEl.style.display =\n",
              "        google.colab.kernel.accessAllowed ? 'block' : 'none';\n",
              "\n",
              "      async function convertToInteractive(key) {\n",
              "        const element = document.querySelector('#df-5f9a0432-c077-4928-a7dd-9666784be140');\n",
              "        const dataTable =\n",
              "          await google.colab.kernel.invokeFunction('convertToInteractive',\n",
              "                                                    [key], {});\n",
              "        if (!dataTable) return;\n",
              "\n",
              "        const docLinkHtml = 'Like what you see? Visit the ' +\n",
              "          '<a target=\"_blank\" href=https://colab.research.google.com/notebooks/data_table.ipynb>data table notebook</a>'\n",
              "          + ' to learn more about interactive tables.';\n",
              "        element.innerHTML = '';\n",
              "        dataTable['output_type'] = 'display_data';\n",
              "        await google.colab.output.renderOutput(dataTable, element);\n",
              "        const docLink = document.createElement('div');\n",
              "        docLink.innerHTML = docLinkHtml;\n",
              "        element.appendChild(docLink);\n",
              "      }\n",
              "    </script>\n",
              "  </div>\n",
              "\n",
              "\n",
              "<div id=\"df-b20bb016-585d-41f4-b677-cb588d7fe6a5\">\n",
              "  <button class=\"colab-df-quickchart\" onclick=\"quickchart('df-b20bb016-585d-41f4-b677-cb588d7fe6a5')\"\n",
              "            title=\"Suggest charts\"\n",
              "            style=\"display:none;\">\n",
              "\n",
              "<svg xmlns=\"http://www.w3.org/2000/svg\" height=\"24px\"viewBox=\"0 0 24 24\"\n",
              "     width=\"24px\">\n",
              "    <g>\n",
              "        <path d=\"M19 3H5c-1.1 0-2 .9-2 2v14c0 1.1.9 2 2 2h14c1.1 0 2-.9 2-2V5c0-1.1-.9-2-2-2zM9 17H7v-7h2v7zm4 0h-2V7h2v10zm4 0h-2v-4h2v4z\"/>\n",
              "    </g>\n",
              "</svg>\n",
              "  </button>\n",
              "\n",
              "<style>\n",
              "  .colab-df-quickchart {\n",
              "      --bg-color: #E8F0FE;\n",
              "      --fill-color: #1967D2;\n",
              "      --hover-bg-color: #E2EBFA;\n",
              "      --hover-fill-color: #174EA6;\n",
              "      --disabled-fill-color: #AAA;\n",
              "      --disabled-bg-color: #DDD;\n",
              "  }\n",
              "\n",
              "  [theme=dark] .colab-df-quickchart {\n",
              "      --bg-color: #3B4455;\n",
              "      --fill-color: #D2E3FC;\n",
              "      --hover-bg-color: #434B5C;\n",
              "      --hover-fill-color: #FFFFFF;\n",
              "      --disabled-bg-color: #3B4455;\n",
              "      --disabled-fill-color: #666;\n",
              "  }\n",
              "\n",
              "  .colab-df-quickchart {\n",
              "    background-color: var(--bg-color);\n",
              "    border: none;\n",
              "    border-radius: 50%;\n",
              "    cursor: pointer;\n",
              "    display: none;\n",
              "    fill: var(--fill-color);\n",
              "    height: 32px;\n",
              "    padding: 0;\n",
              "    width: 32px;\n",
              "  }\n",
              "\n",
              "  .colab-df-quickchart:hover {\n",
              "    background-color: var(--hover-bg-color);\n",
              "    box-shadow: 0 1px 2px rgba(60, 64, 67, 0.3), 0 1px 3px 1px rgba(60, 64, 67, 0.15);\n",
              "    fill: var(--button-hover-fill-color);\n",
              "  }\n",
              "\n",
              "  .colab-df-quickchart-complete:disabled,\n",
              "  .colab-df-quickchart-complete:disabled:hover {\n",
              "    background-color: var(--disabled-bg-color);\n",
              "    fill: var(--disabled-fill-color);\n",
              "    box-shadow: none;\n",
              "  }\n",
              "\n",
              "  .colab-df-spinner {\n",
              "    border: 2px solid var(--fill-color);\n",
              "    border-color: transparent;\n",
              "    border-bottom-color: var(--fill-color);\n",
              "    animation:\n",
              "      spin 1s steps(1) infinite;\n",
              "  }\n",
              "\n",
              "  @keyframes spin {\n",
              "    0% {\n",
              "      border-color: transparent;\n",
              "      border-bottom-color: var(--fill-color);\n",
              "      border-left-color: var(--fill-color);\n",
              "    }\n",
              "    20% {\n",
              "      border-color: transparent;\n",
              "      border-left-color: var(--fill-color);\n",
              "      border-top-color: var(--fill-color);\n",
              "    }\n",
              "    30% {\n",
              "      border-color: transparent;\n",
              "      border-left-color: var(--fill-color);\n",
              "      border-top-color: var(--fill-color);\n",
              "      border-right-color: var(--fill-color);\n",
              "    }\n",
              "    40% {\n",
              "      border-color: transparent;\n",
              "      border-right-color: var(--fill-color);\n",
              "      border-top-color: var(--fill-color);\n",
              "    }\n",
              "    60% {\n",
              "      border-color: transparent;\n",
              "      border-right-color: var(--fill-color);\n",
              "    }\n",
              "    80% {\n",
              "      border-color: transparent;\n",
              "      border-right-color: var(--fill-color);\n",
              "      border-bottom-color: var(--fill-color);\n",
              "    }\n",
              "    90% {\n",
              "      border-color: transparent;\n",
              "      border-bottom-color: var(--fill-color);\n",
              "    }\n",
              "  }\n",
              "</style>\n",
              "\n",
              "  <script>\n",
              "    async function quickchart(key) {\n",
              "      const quickchartButtonEl =\n",
              "        document.querySelector('#' + key + ' button');\n",
              "      quickchartButtonEl.disabled = true;  // To prevent multiple clicks.\n",
              "      quickchartButtonEl.classList.add('colab-df-spinner');\n",
              "      try {\n",
              "        const charts = await google.colab.kernel.invokeFunction(\n",
              "            'suggestCharts', [key], {});\n",
              "      } catch (error) {\n",
              "        console.error('Error during call to suggestCharts:', error);\n",
              "      }\n",
              "      quickchartButtonEl.classList.remove('colab-df-spinner');\n",
              "      quickchartButtonEl.classList.add('colab-df-quickchart-complete');\n",
              "    }\n",
              "    (() => {\n",
              "      let quickchartButtonEl =\n",
              "        document.querySelector('#df-b20bb016-585d-41f4-b677-cb588d7fe6a5 button');\n",
              "      quickchartButtonEl.style.display =\n",
              "        google.colab.kernel.accessAllowed ? 'block' : 'none';\n",
              "    })();\n",
              "  </script>\n",
              "</div>\n",
              "\n",
              "    </div>\n",
              "  </div>\n"
            ],
            "application/vnd.google.colaboratory.intrinsic+json": {
              "type": "dataframe",
              "variable_name": "viirs_poi",
              "summary": "{\n  \"name\": \"viirs_poi\",\n  \"rows\": 96,\n  \"fields\": [\n    {\n      \"column\": \"time\",\n      \"properties\": {\n        \"dtype\": \"date\",\n        \"min\": 1388534400000,\n        \"max\": 1638316800000,\n        \"num_unique_values\": 96,\n        \"samples\": [\n          1598918400000,\n          1590969600000,\n          1580515200000\n        ],\n        \"semantic_type\": \"\",\n        \"description\": \"\"\n      }\n    },\n    {\n      \"column\": \"datetime\",\n      \"properties\": {\n        \"dtype\": \"date\",\n        \"min\": \"2014-01-01 00:00:00\",\n        \"max\": \"2021-12-01 00:00:00\",\n        \"num_unique_values\": 96,\n        \"samples\": [\n          \"2020-09-01 00:00:00\",\n          \"2020-06-01 00:00:00\",\n          \"2020-02-01 00:00:00\"\n        ],\n        \"semantic_type\": \"\",\n        \"description\": \"\"\n      }\n    },\n    {\n      \"column\": \"avg_rad\",\n      \"properties\": {\n        \"dtype\": \"number\",\n        \"std\": 12.04932894835439,\n        \"min\": 24.819854736328125,\n        \"max\": 87.48999786376953,\n        \"num_unique_values\": 96,\n        \"samples\": [\n          44.779998779296875,\n          81.16000366210938,\n          60.66999816894531\n        ],\n        \"semantic_type\": \"\",\n        \"description\": \"\"\n      }\n    }\n  ]\n}"
            }
          },
          "metadata": {},
          "execution_count": 15
        }
      ]
    },
    {
      "cell_type": "markdown",
      "source": [
        "Once we have the time-series data, we can plot them on a scatter plot to examine the longitudinal change in nighttime light intensity around UC Berkeley, as well as the variation across two datasets."
      ],
      "metadata": {
        "id": "ftXSRrwYrGq_"
      }
    },
    {
      "cell_type": "code",
      "source": [
        "import matplotlib.pyplot as plt\n",
        "import numpy as np\n",
        "%matplotlib inline\n",
        "\n",
        "# Fitting curves.\n",
        "## First, extract x values (times) from the dfs.\n",
        "x_data_u = np.asanyarray(dmsp_poi['time'].apply(float))\n",
        "x_data_r = np.asanyarray(viirs_poi['time'].apply(float))\n",
        "\n",
        "## Secondly, extract y values (LST) from the dfs.\n",
        "y_data_u = np.asanyarray(dmsp_poi['b1'].apply(float))\n",
        "y_data_r = np.asanyarray(viirs_poi['avg_rad'].apply(float))\n",
        "\n",
        "# Subplots.\n",
        "fig, ax = plt.subplots(figsize=(14, 6))\n",
        "\n",
        "# Add scatter plots.\n",
        "ax.scatter(dmsp_poi['datetime'], dmsp_poi['b1'],\n",
        "           c='blue', alpha=0.2, label='DMSP/OLS')\n",
        "ax.scatter(viirs_poi['datetime'], viirs_poi['avg_rad'],\n",
        "           c='green', alpha=0.35, label='VIIRS')\n",
        "\n",
        "\n",
        "# Add some parameters.\n",
        "ax.set_title('Nighttime Light Intensity Near UC Berkeley', fontsize=16)\n",
        "ax.set_xlabel('Date', fontsize=14)\n",
        "ax.set_ylabel('Index', fontsize=14)\n",
        "ax.set_ylim(0, 100)\n",
        "ax.grid(lw=0.2)\n",
        "ax.legend(fontsize=14, loc='lower right')\n",
        "\n",
        "plt.show()"
      ],
      "metadata": {
        "colab": {
          "base_uri": "https://localhost:8080/",
          "height": 555
        },
        "id": "8iT2MnJLntYI",
        "outputId": "a477effa-0038-42b3-e9d0-a682650fb688"
      },
      "execution_count": 16,
      "outputs": [
        {
          "output_type": "display_data",
          "data": {
            "text/plain": [
              "<Figure size 1400x600 with 1 Axes>"
            ],
            "image/png": "[encoded data removed]"
          },
          "metadata": {}
        }
      ]
    },
    {
      "cell_type": "markdown",
      "source": [
        "## Static image\n",
        "\n",
        "We can also extract the average values from a certain region. In this example, I filter the data by Alameda County, and visualize them in a customized color palette. Comparing the two thumbnails using DMSP/OLS and VIIRS, the latter has a higher resolution and less overcast."
      ],
      "metadata": {
        "id": "ZjRTvF4Tfh3t"
      }
    },
    {
      "cell_type": "code",
      "source": [
        "# filter county boundary by name, get geometry\n",
        "alameda = CACounty.filterMetadata(\"COUNTY_NAM\",\"equals\", \"Alameda\").first().geometry()"
      ],
      "metadata": {
        "id": "4Lu1g4nGzqht"
      },
      "execution_count": 17,
      "outputs": []
    },
    {
      "cell_type": "code",
      "source": [
        "# Import the Image function from the IPython.display module.\n",
        "from IPython.display import Image\n",
        "\n",
        "# Display a thumbnail of global nighttime light.\n",
        "Image(url = DMSP.mean()\n",
        "  .getThumbURL({'min': 0, 'max': 63, 'region': alameda, 'dimensions': 512,\n",
        "                'palette': ['000044','ffff00','ffffff']}))"
      ],
      "metadata": {
        "colab": {
          "base_uri": "https://localhost:8080/",
          "height": 277
        },
        "id": "r8MJAfZUSeVH",
        "outputId": "d859e6f1-cc6b-4a6e-fa93-24a4bf13830f"
      },
      "execution_count": 18,
      "outputs": [
        {
          "output_type": "execute_result",
          "data": {
            "text/html": [
              "<img src=\"https://earthengine.googleapis.com/v1/projects/ee-meiqingli/thumbnails/22671c2b14aa5c73ffec0782fb8fdc1c-afb68dee9490ebb6139133a588525860:getPixels\"/>"
            ],
            "text/plain": [
              "<IPython.core.display.Image object>"
            ]
          },
          "metadata": {},
          "execution_count": 18
        }
      ]
    },
    {
      "cell_type": "code",
      "source": [
        "# Display a thumbnail of global nighttime light.\n",
        "Image(url = VIIRS.mean()\n",
        "  .getThumbURL({'min': 0, 'max': 63, 'region': alameda, 'dimensions': 512,\n",
        "                'palette': ['000044','ffff00','ffffff']}))"
      ],
      "metadata": {
        "colab": {
          "base_uri": "https://localhost:8080/",
          "height": 277
        },
        "id": "4AdwsKs3ozOv",
        "outputId": "bf845e3b-25d1-4a20-a13d-d58cb5062c77"
      },
      "execution_count": 20,
      "outputs": [
        {
          "output_type": "execute_result",
          "data": {
            "text/html": [
              "<img src=\"https://earthengine.googleapis.com/v1/projects/ee-meiqingli/thumbnails/d6a106fad17807a9a24908f29c8fa94d-cb0bd28e0cdf644af4c6d369c2cf6ccb:getPixels\"/>"
            ],
            "text/plain": [
              "<IPython.core.display.Image object>"
            ]
          },
          "metadata": {},
          "execution_count": 20
        }
      ]
    },
    {
      "cell_type": "markdown",
      "source": [
        "### Export a GEOTIFF file\n",
        "\n",
        "Once we have the static image, we can save it as a GEOTIFF file to Google Drive."
      ],
      "metadata": {
        "id": "9WzNDjysSuog"
      }
    },
    {
      "cell_type": "code",
      "source": [
        "VIIRS_img = VIIRS.mean()\n",
        "DMSP_img = DMSP.mean()\n",
        "\n",
        "task = ee.batch.Export.image.toDrive(image=VIIRS_img,\n",
        "                                     description='night light intensity in Aladema',\n",
        "                                     scale=30,\n",
        "                                     region=alameda,\n",
        "                                     fileNamePrefix='VIIRS_alameda',\n",
        "                                     crs='EPSG:4326',\n",
        "                                     fileFormat='GeoTIFF')\n",
        "task.start()"
      ],
      "metadata": {
        "id": "hhmJmb0_St6T"
      },
      "execution_count": 21,
      "outputs": []
    },
    {
      "cell_type": "code",
      "source": [
        "task.status()"
      ],
      "metadata": {
        "id": "P4rP_5-h61ko",
        "colab": {
          "base_uri": "https://localhost:8080/"
        },
        "outputId": "3df28090-ddb4-435b-a1b8-4372fbf82b0a"
      },
      "execution_count": 22,
      "outputs": [
        {
          "output_type": "execute_result",
          "data": {
            "text/plain": [
              "{'state': 'READY',\n",
              " 'description': 'night light intensity in Aladema',\n",
              " 'priority': 100,\n",
              " 'creation_timestamp_ms': 1712550091297,\n",
              " 'update_timestamp_ms': 1712550091297,\n",
              " 'start_timestamp_ms': 0,\n",
              " 'task_type': 'EXPORT_IMAGE',\n",
              " 'id': '4Q3YE6OXLBOT5HH5HXZESAVU',\n",
              " 'name': 'projects/ee-meiqingli/operations/4Q3YE6OXLBOT5HH5HXZESAVU'}"
            ]
          },
          "metadata": {},
          "execution_count": 22
        }
      ]
    },
    {
      "cell_type": "markdown",
      "source": [
        "Or, we can get a link to download the GEOTIFF file."
      ],
      "metadata": {
        "id": "KsNXOQD986BV"
      }
    },
    {
      "cell_type": "code",
      "source": [
        "link = VIIRS_img.getDownloadURL({\n",
        "    'scale': 30,\n",
        "    'crs': 'EPSG:4326',\n",
        "    'fileFormat': 'GeoTIFF',\n",
        "    'region': alameda})\n",
        "print(link)"
      ],
      "metadata": {
        "id": "TGrvCjSR84RG",
        "colab": {
          "base_uri": "https://localhost:8080/"
        },
        "outputId": "0e365991-2098-402c-b8a9-7b52392f54fe"
      },
      "execution_count": 23,
      "outputs": [
        {
          "output_type": "stream",
          "name": "stdout",
          "text": [
            "https://earthengine.googleapis.com/v1/projects/ee-meiqingli/thumbnails/022c413565f3aefe4897931e417c48db-b97bd23dd6a76c7a2978064139f91f10:getPixels\n"
          ]
        }
      ]
    },
    {
      "cell_type": "markdown",
      "source": [
        "## Interactive map\n",
        "\n",
        "Our final step is to map the global nighttime light data onto an interactive map. Toggle between DMSP and VIIRS layers by clicking checkboxes on the top right."
      ],
      "metadata": {
        "id": "s807kb8RflVT"
      }
    },
    {
      "cell_type": "code",
      "source": [
        "# Import the Folium library.\n",
        "import folium\n",
        "\n",
        "# Define a method for displaying Earth Engine image tiles to folium map.\n",
        "def add_ee_layer(self, ee_image_object, vis_params, name):\n",
        "  map_id_dict = ee.Image(ee_image_object).getMapId(vis_params)\n",
        "  folium.raster_layers.TileLayer(\n",
        "    tiles = map_id_dict['tile_fetcher'].url_format,\n",
        "    attr = 'Map Data &copy; <a href=\"https://earthengine.google.com/\">Google Earth Engine</a>',\n",
        "    name = name,\n",
        "    overlay = True,\n",
        "    control = True\n",
        "  ).add_to(self)\n",
        "\n",
        "# Add EE drawing method to folium.\n",
        "folium.Map.add_ee_layer = add_ee_layer\n",
        "\n",
        "# Set visualization parameters.\n",
        "vis_params = {\n",
        "  'min': 0,\n",
        "  'max': 63,\n",
        "  'palette': ['000044','ffff00','ffffff']}\n",
        "\n",
        "# Create a folium map object. Zoom to California\n",
        "my_map = folium.Map(location=[38, -121], zoom_start=5.5)\n",
        "\n",
        "# Arrange layers inside a list\n",
        "ee_tiles = [DMSP_img, VIIRS_img]\n",
        "\n",
        "# Arrange visualization parameters inside a list.\n",
        "ee_vis_params = [vis_params, vis_params]\n",
        "\n",
        "# Arrange layer names inside a list.\n",
        "ee_tiles_names = ['DMSP', 'VIIRS']\n",
        "\n",
        "# Add layers to the map using a loop.\n",
        "for tile, vis_param, name in zip(ee_tiles, ee_vis_params, ee_tiles_names):\n",
        "    my_map.add_ee_layer(tile, vis_param, name)\n",
        "\n",
        "folium.LayerControl(collapsed = False).add_to(my_map)\n",
        "\n",
        "\n",
        "# Display the map.\n",
        "display(my_map)"
      ],
      "metadata": {
        "colab": {
          "base_uri": "https://localhost:8080/",
          "height": 696
        },
        "id": "_Eq6ggPVx8un",
        "outputId": "64261200-b54a-4101-b442-1f4905ccdcbe"
      },
      "execution_count": 24,
      "outputs": [
        {
          "output_type": "display_data",
          "data": {
            "text/plain": [
              "<folium.folium.Map at 0x783f0d5a2d40>"
            ],
            "text/html": [
              "<div style=\"width:100%;\"><div style=\"position:relative;width:100%;height:0;padding-bottom:60%;\"><span style=\"color:#565656\">Make this Notebook Trusted to load map: File -> Trust Notebook</span><iframe srcdoc=\"&lt;!DOCTYPE html&gt;\n",
              "&lt;html&gt;\n",
              "&lt;head&gt;\n",
              "    \n",
              "    &lt;meta http-equiv=&quot;content-type&quot; content=&quot;text/html; charset=UTF-8&quot; /&gt;\n",
              "    \n",
              "        &lt;script&gt;\n",
              "            L_NO_TOUCH = false;\n",
              "            L_DISABLE_3D = false;\n",
              "        &lt;/script&gt;\n",
              "    \n",
              "    &lt;style&gt;html, body {width: 100%;height: 100%;margin: 0;padding: 0;}&lt;/style&gt;\n",
              "    &lt;style&gt;#map {position:absolute;top:0;bottom:0;right:0;left:0;}&lt;/style&gt;\n",
              "    &lt;script src=&quot;https://cdn.jsdelivr.net/npm/leaflet@1.9.3/dist/leaflet.js&quot;&gt;&lt;/script&gt;\n",
              "    &lt;script src=&quot;https://code.jquery.com/jquery-1.12.4.min.js&quot;&gt;&lt;/script&gt;\n",
              "    &lt;script src=&quot;https://cdn.jsdelivr.net/npm/bootstrap@5.2.2/dist/js/bootstrap.bundle.min.js&quot;&gt;&lt;/script&gt;\n",
              "    &lt;script src=&quot;https://cdnjs.cloudflare.com/ajax/libs/Leaflet.awesome-markers/2.0.2/leaflet.awesome-markers.js&quot;&gt;&lt;/script&gt;\n",
              "    &lt;link rel=&quot;stylesheet&quot; href=&quot;https://cdn.jsdelivr.net/npm/leaflet@1.9.3/dist/leaflet.css&quot;/&gt;\n",
              "    &lt;link rel=&quot;stylesheet&quot; href=&quot;https://cdn.jsdelivr.net/npm/bootstrap@5.2.2/dist/css/bootstrap.min.css&quot;/&gt;\n",
              "    &lt;link rel=&quot;stylesheet&quot; href=&quot;https://netdna.bootstrapcdn.com/bootstrap/3.0.0/css/bootstrap.min.css&quot;/&gt;\n",
              "    &lt;link rel=&quot;stylesheet&quot; href=&quot;https://cdn.jsdelivr.net/npm/@fortawesome/fontawesome-free@6.2.0/css/all.min.css&quot;/&gt;\n",
              "    &lt;link rel=&quot;stylesheet&quot; href=&quot;https://cdnjs.cloudflare.com/ajax/libs/Leaflet.awesome-markers/2.0.2/leaflet.awesome-markers.css&quot;/&gt;\n",
              "    &lt;link rel=&quot;stylesheet&quot; href=&quot;https://cdn.jsdelivr.net/gh/python-visualization/folium/folium/templates/leaflet.awesome.rotate.min.css&quot;/&gt;\n",
              "    \n",
              "            &lt;meta name=&quot;viewport&quot; content=&quot;width=device-width,\n",
              "                initial-scale=1.0, maximum-scale=1.0, user-scalable=no&quot; /&gt;\n",
              "            &lt;style&gt;\n",
              "                #map_f19b9030b8f8555ad00010c932d24017 {\n",
              "                    position: relative;\n",
              "                    width: 100.0%;\n",
              "                    height: 100.0%;\n",
              "                    left: 0.0%;\n",
              "                    top: 0.0%;\n",
              "                }\n",
              "                .leaflet-container { font-size: 1rem; }\n",
              "            &lt;/style&gt;\n",
              "        \n",
              "&lt;/head&gt;\n",
              "&lt;body&gt;\n",
              "    \n",
              "    \n",
              "            &lt;div class=&quot;folium-map&quot; id=&quot;map_f19b9030b8f8555ad00010c932d24017&quot; &gt;&lt;/div&gt;\n",
              "        \n",
              "&lt;/body&gt;\n",
              "&lt;script&gt;\n",
              "    \n",
              "    \n",
              "            var map_f19b9030b8f8555ad00010c932d24017 = L.map(\n",
              "                &quot;map_f19b9030b8f8555ad00010c932d24017&quot;,\n",
              "                {\n",
              "                    center: [38.0, -121.0],\n",
              "                    crs: L.CRS.EPSG3857,\n",
              "                    zoom: 5.5,\n",
              "                    zoomControl: true,\n",
              "                    preferCanvas: false,\n",
              "                }\n",
              "            );\n",
              "\n",
              "            \n",
              "\n",
              "        \n",
              "    \n",
              "            var tile_layer_6dc02e353a24dcbf811d2322320b420c = L.tileLayer(\n",
              "                &quot;https://{s}.tile.openstreetmap.org/{z}/{x}/{y}.png&quot;,\n",
              "                {&quot;attribution&quot;: &quot;Data by \\u0026copy; \\u003ca target=\\&quot;_blank\\&quot; href=\\&quot;http://openstreetmap.org\\&quot;\\u003eOpenStreetMap\\u003c/a\\u003e, under \\u003ca target=\\&quot;_blank\\&quot; href=\\&quot;http://www.openstreetmap.org/copyright\\&quot;\\u003eODbL\\u003c/a\\u003e.&quot;, &quot;detectRetina&quot;: false, &quot;maxNativeZoom&quot;: 18, &quot;maxZoom&quot;: 18, &quot;minZoom&quot;: 0, &quot;noWrap&quot;: false, &quot;opacity&quot;: 1, &quot;subdomains&quot;: &quot;abc&quot;, &quot;tms&quot;: false}\n",
              "            ).addTo(map_f19b9030b8f8555ad00010c932d24017);\n",
              "        \n",
              "    \n",
              "            var tile_layer_a8ac93e4e6069537849dd9ee3be900b3 = L.tileLayer(\n",
              "                &quot;https://earthengine.googleapis.com/v1/projects/ee-meiqingli/maps/43917683766d1fda53d15c76907096e7-cac534c7c382da7bfa86fc4a14255119/tiles/{z}/{x}/{y}&quot;,\n",
              "                {&quot;attribution&quot;: &quot;Map Data \\u0026copy; \\u003ca href=\\&quot;https://earthengine.google.com/\\&quot;\\u003eGoogle Earth Engine\\u003c/a\\u003e&quot;, &quot;detectRetina&quot;: false, &quot;maxNativeZoom&quot;: 18, &quot;maxZoom&quot;: 18, &quot;minZoom&quot;: 0, &quot;noWrap&quot;: false, &quot;opacity&quot;: 1, &quot;subdomains&quot;: &quot;abc&quot;, &quot;tms&quot;: false}\n",
              "            ).addTo(map_f19b9030b8f8555ad00010c932d24017);\n",
              "        \n",
              "    \n",
              "            var tile_layer_c84dfc28340f81c08bcba8531940ba96 = L.tileLayer(\n",
              "                &quot;https://earthengine.googleapis.com/v1/projects/ee-meiqingli/maps/bc0da70a4053ec04fc7baf42cf70a4ce-aefb37aa720fd430a6383d7c71609630/tiles/{z}/{x}/{y}&quot;,\n",
              "                {&quot;attribution&quot;: &quot;Map Data \\u0026copy; \\u003ca href=\\&quot;https://earthengine.google.com/\\&quot;\\u003eGoogle Earth Engine\\u003c/a\\u003e&quot;, &quot;detectRetina&quot;: false, &quot;maxNativeZoom&quot;: 18, &quot;maxZoom&quot;: 18, &quot;minZoom&quot;: 0, &quot;noWrap&quot;: false, &quot;opacity&quot;: 1, &quot;subdomains&quot;: &quot;abc&quot;, &quot;tms&quot;: false}\n",
              "            ).addTo(map_f19b9030b8f8555ad00010c932d24017);\n",
              "        \n",
              "    \n",
              "            var layer_control_db209b75fb1c0e03e3aa90588ef88623 = {\n",
              "                base_layers : {\n",
              "                    &quot;openstreetmap&quot; : tile_layer_6dc02e353a24dcbf811d2322320b420c,\n",
              "                },\n",
              "                overlays :  {\n",
              "                    &quot;DMSP&quot; : tile_layer_a8ac93e4e6069537849dd9ee3be900b3,\n",
              "                    &quot;VIIRS&quot; : tile_layer_c84dfc28340f81c08bcba8531940ba96,\n",
              "                },\n",
              "            };\n",
              "            L.control.layers(\n",
              "                layer_control_db209b75fb1c0e03e3aa90588ef88623.base_layers,\n",
              "                layer_control_db209b75fb1c0e03e3aa90588ef88623.overlays,\n",
              "                {&quot;autoZIndex&quot;: true, &quot;collapsed&quot;: false, &quot;position&quot;: &quot;topright&quot;}\n",
              "            ).addTo(map_f19b9030b8f8555ad00010c932d24017);\n",
              "        \n",
              "&lt;/script&gt;\n",
              "&lt;/html&gt;\" style=\"position:absolute;width:100%;height:100%;left:0;top:0;border:none !important;\" allowfullscreen webkitallowfullscreen mozallowfullscreen></iframe></div></div>"
            ]
          },
          "metadata": {}
        }
      ]
    },
    {
      "cell_type": "markdown",
      "source": [
        "## References\n",
        "\n",
        "*  [EE API Colab Setup](https://colab.research.google.com/github/google/earthengine-api/blob/master/python/examples/ipynb/ee-api-colab-setup.ipynb)\n",
        "*   [EE Python API Tutorial](https://colab.research.google.com/github/google/earthengine-community/blob/master/tutorials/intro-to-python-api/index.ipynb)\n",
        "\n",
        "* More tutorials: [Geemap package for interative mapping with GEE](https://github.com/gee-community/geemap)\n"
      ],
      "metadata": {
        "id": "xL1rOH1H_Ip8"
      }
    }
  ]
}