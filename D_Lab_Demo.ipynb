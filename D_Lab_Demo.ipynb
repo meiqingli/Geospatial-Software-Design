{
  "nbformat": 4,
  "nbformat_minor": 0,
  "metadata": {
    "colab": {
      "provenance": [],
      "toc_visible": true,
      "machine_shape": "hm",
      "include_colab_link": true
    },
    "kernelspec": {
      "name": "python3",
      "display_name": "Python 3"
    },
    "language_info": {
      "name": "python"
    },
    "accelerator": "GPU",
    "gpuClass": "premium"
  },
  "cells": [
    {
      "cell_type": "markdown",
      "metadata": {
        "id": "view-in-github",
        "colab_type": "text"
      },
      "source": [
        "<a href=\"https://colab.research.google.com/github/meiqingli/Geospatial-Software-Design/blob/master/D_Lab_Demo.ipynb\" target=\"_parent\"><img src=\"https://colab.research.google.com/assets/colab-badge.svg\" alt=\"Open In Colab\"/></a>"
      ]
    },
    {
      "cell_type": "markdown",
      "source": [
        "# Extracting Time-Series Satellite Images with Google Earth Engine Python API\n",
        "\n",
        "by: Meiqing Li (meiqing@berkeley.edu), D-Lab Data Science Fellow"
      ],
      "metadata": {
        "id": "SaH3f2dFcaUX"
      }
    },
    {
      "cell_type": "markdown",
      "source": [
        "This notebook demonstrates the process to filter, classify, resample, and visualiza time-series satellite images using Google Earth Engine Python API. "
      ],
      "metadata": {
        "id": "B7DRqpDVnnbQ"
      }
    },
    {
      "cell_type": "markdown",
      "source": [
        "### API Setup: import, authenticate and initialize\n",
        "\n",
        "Beofre running the code, we need to first import the Google Earth Enginer API. Since the Earth Engine API is installed by default in Google Colaboratory, I don't need to install it here. "
      ],
      "metadata": {
        "id": "wlgRqNYJptdf"
      }
    },
    {
      "cell_type": "code",
      "source": [
        "import ee"
      ],
      "metadata": {
        "id": "AgcpSljwcg4X"
      },
      "execution_count": 1,
      "outputs": []
    },
    {
      "cell_type": "code",
      "source": [
        "# Trigger the authentication flow.\n",
        "ee.Authenticate()\n",
        "\n",
        "# Initialize the library.\n",
        "ee.Initialize()"
      ],
      "metadata": {
        "colab": {
          "base_uri": "https://localhost:8080/"
        },
        "id": "SSUqL6yncr3R",
        "outputId": "c68cdf76-94d6-46c1-8fe8-be60a96d82ad"
      },
      "execution_count": 2,
      "outputs": [
        {
          "output_type": "stream",
          "name": "stdout",
          "text": [
            "To authorize access needed by Earth Engine, open the following URL in a web browser and follow the instructions. If the web browser does not start automatically, please manually browse the URL below.\n",
            "\n",
            "    https://code.earthengine.google.com/client-auth?scopes=https%3A//www.googleapis.com/auth/earthengine%20https%3A//www.googleapis.com/auth/devstorage.full_control&request_id=qLJqTz7e1xya_2XxnnXNOYOd19x75uNS4xV65Qj-_dc&tc=w_SKdMI0xNgCwZTKf2FcnZFpO403BepMDE8OqV8KiV0&cc=RRnSUS8gdK-6IK0sK3E1f_mPCqjQPN8PYoZ2z0YUguQ\n",
            "\n",
            "The authorization workflow will generate a code, which you should paste in the box below.\n",
            "Enter verification code: 4/1AVHEtk7I-T7FosUDVuxuQzUfKBbppR4PKV5rYjiFjlenmrLUVT48pZ5d7YA\n",
            "\n",
            "Successfully saved authorization token.\n"
          ]
        }
      ]
    },
    {
      "cell_type": "markdown",
      "source": [
        "### Explore Earth Engine Data Catalog\n",
        "\n",
        "[The Earth Engine Data Catalog](https://developers.google.com/earth-engine/datasets/catalog) "
      ],
      "metadata": {
        "id": "VBo55HAZriPD"
      }
    },
    {
      "cell_type": "markdown",
      "source": [
        "https://code.earthengine.google.com/1ec1d414a4c5b03bbb0a7d6c19b5a748\n",
        "https://code.earthengine.google.com/291961fe8406ca4c75ecea4ef3f33435\n",
        "\n",
        "VIIRS - Nighttime Light Image\n"
      ],
      "metadata": {
        "id": "Lfvwi2l0eVbi"
      }
    },
    {
      "cell_type": "code",
      "source": [
        "# Print the elevation of Mount Everest.\n",
        "dem = ee.Image('USGS/SRTMGL1_003')\n",
        "xy = ee.Geometry.Point([86.9250, 27.9881])\n",
        "elev = dem.sample(xy, 30).first().get('elevation').getInfo()\n",
        "print('Mount Everest elevation (m):', elev)"
      ],
      "metadata": {
        "colab": {
          "base_uri": "https://localhost:8080/"
        },
        "id": "s5Xph0t8ecYV",
        "outputId": "a1402b89-d3e0-46ac-b4f8-df8e33f7870e"
      },
      "execution_count": null,
      "outputs": [
        {
          "output_type": "stream",
          "name": "stdout",
          "text": [
            "Mount Everest elevation (m): 8729\n"
          ]
        }
      ]
    },
    {
      "cell_type": "markdown",
      "source": [
        "### Import Features"
      ],
      "metadata": {
        "id": "iVP-u2tbd16t"
      }
    },
    {
      "cell_type": "code",
      "source": [
        "# I have uploaded CA county and state boundaries through GEE console (add more description here)\n",
        "CACounty = ee.FeatureCollection(\"projects/spherical-depth-278922/assets/California_County_Boundaries\")\n",
        "CAState = ee.FeatureCollection(\"projects/ee-meiqingli/assets/CAState\")"
      ],
      "metadata": {
        "id": "KDcTm7aid_DY"
      },
      "execution_count": 73,
      "outputs": []
    },
    {
      "cell_type": "markdown",
      "source": [
        "#### DMSP/OLS\n",
        "\n",
        "https://developers.google.com/earth-engine/datasets/catalog/NOAA_DMSP-OLS_NIGHTTIME_LIGHTS#bands\n",
        "\n",
        "https://developers.google.com/earth-engine/datasets/catalog/BNU_FGS_CCNL_v1"
      ],
      "metadata": {
        "id": "9zu41KbJM_Rl"
      }
    },
    {
      "cell_type": "code",
      "source": [
        "## DMSP OLS Nighttime Lights (1992-01-01 - 2014-01-01)\n",
        "# select band and filter date\n",
        "DMSP = ee.ImageCollection('BNU/FGS/CCNL/v1').select('b1').filterDate('1992-01-01', '2014-01-01')"
      ],
      "metadata": {
        "id": "_I6mxDW3iwNM"
      },
      "execution_count": 85,
      "outputs": []
    },
    {
      "cell_type": "markdown",
      "source": [
        "#### VIIRS\n",
        "\n",
        "https://developers.google.com/earth-engine/datasets/catalog/NOAA_VIIRS_DNB_MONTHLY_V1_VCMSLCFG#description"
      ],
      "metadata": {
        "id": "kPJseGcpNAGX"
      }
    },
    {
      "cell_type": "code",
      "source": [
        "## VIIRS Nighttime Lights (2014-01-01 - 2022-11-01)\n",
        "# select band and filter date\n",
        "VIIRS = ee.ImageCollection('NOAA/VIIRS/DNB/MONTHLY_V1/VCMSLCFG').select('avg_rad').filterDate('2014-01-01', '2022-01-01')"
      ],
      "metadata": {
        "id": "eyoithWeNFWc"
      },
      "execution_count": 80,
      "outputs": []
    },
    {
      "cell_type": "markdown",
      "source": [
        "#### MODIS Land Cover\n",
        "\n",
        "https://developers.google.com/earth-engine/datasets/catalog/MODIS_061_MCD12Q1"
      ],
      "metadata": {
        "id": "mjBSH0fFxkkK"
      }
    },
    {
      "cell_type": "code",
      "source": [
        "MODIS = ee.ImageCollection('MODIS/006/MOD11A1').select('LST_Day_1km').filterDate('2001-01-01', '2021-01-01')"
      ],
      "metadata": {
        "id": "_J4LreivyQ8r"
      },
      "execution_count": 131,
      "outputs": []
    },
    {
      "cell_type": "markdown",
      "source": [
        "### Get time-series data for a location\n",
        "\n",
        "UC Berkeley: [37.8719, -122.2585]"
      ],
      "metadata": {
        "id": "z5KLXs6lTMu8"
      }
    },
    {
      "cell_type": "code",
      "source": [
        "## Calculate the mean value around a location using the `getRegion()` method\n",
        "# DMSP/OLS\n",
        "poi = ee.Geometry.Point([-122.3790, 37.6213]) # note lon, lat\n",
        "scale = 30\n",
        "\n",
        "DMSP_poi = DMSP.getRegion(poi, scale).getInfo()\n",
        "\n",
        "# preview the result\n",
        "DMSP_poi[:5]"
      ],
      "metadata": {
        "colab": {
          "base_uri": "https://localhost:8080/"
        },
        "id": "-WS73gBCTM8E",
        "outputId": "beacdd04-d044-4c1a-d289-ee1fac1d7007"
      },
      "execution_count": 156,
      "outputs": [
        {
          "output_type": "execute_result",
          "data": {
            "text/plain": [
              "[['id', 'longitude', 'latitude', 'time', 'b1'],\n",
              " ['DMSP1992v1',\n",
              "  -122.37897337582122,\n",
              "  37.621309351632945,\n",
              "  694224000000,\n",
              "  67.76784695621606],\n",
              " ['DMSP1993v1',\n",
              "  -122.37897337582122,\n",
              "  37.621309351632945,\n",
              "  725846400000,\n",
              "  56.66487062392774],\n",
              " ['DMSP1994v1',\n",
              "  -122.37897337582122,\n",
              "  37.621309351632945,\n",
              "  757382400000,\n",
              "  81.95031347136096],\n",
              " ['DMSP1995v1',\n",
              "  -122.37897337582122,\n",
              "  37.621309351632945,\n",
              "  788918400000,\n",
              "  91.53101235005826]]"
            ]
          },
          "metadata": {},
          "execution_count": 156
        }
      ]
    },
    {
      "cell_type": "code",
      "source": [
        "# VIIRS\n",
        "VIIRS_poi = VIIRS.getRegion(poi, scale).getInfo()\n",
        "\n",
        "# preview the result\n",
        "VIIRS_poi[:5]"
      ],
      "metadata": {
        "id": "aNDSoD1uezu7",
        "outputId": "5658482f-0984-431f-9abc-e8f0313a143d",
        "colab": {
          "base_uri": "https://localhost:8080/"
        }
      },
      "execution_count": 157,
      "outputs": [
        {
          "output_type": "execute_result",
          "data": {
            "text/plain": [
              "[['id', 'longitude', 'latitude', 'time', 'avg_rad'],\n",
              " ['20140101',\n",
              "  -122.37897337582122,\n",
              "  37.621309351632945,\n",
              "  1388534400000,\n",
              "  55.463462829589844],\n",
              " ['20140201',\n",
              "  -122.37897337582122,\n",
              "  37.621309351632945,\n",
              "  1391212800000,\n",
              "  72.19701385498047],\n",
              " ['20140301',\n",
              "  -122.37897337582122,\n",
              "  37.621309351632945,\n",
              "  1393632000000,\n",
              "  60.484066009521484],\n",
              " ['20140401',\n",
              "  -122.37897337582122,\n",
              "  37.621309351632945,\n",
              "  1396310400000,\n",
              "  63.16453170776367]]"
            ]
          },
          "metadata": {},
          "execution_count": 157
        }
      ]
    },
    {
      "cell_type": "markdown",
      "source": [
        "Transform to pandas dataframe"
      ],
      "metadata": {
        "id": "4DcZn37KoQUG"
      }
    },
    {
      "cell_type": "code",
      "source": [
        "import pandas as pd\n",
        "\n",
        "def ee_array_to_df(arr, list_of_bands):\n",
        "    \"\"\"Transforms client-side ee.Image.getRegion array to pandas.DataFrame.\"\"\"\n",
        "    df = pd.DataFrame(arr)\n",
        "\n",
        "    # Rearrange the header.\n",
        "    headers = df.iloc[0]\n",
        "    df = pd.DataFrame(df.values[1:], columns=headers)\n",
        "\n",
        "    # Remove rows without data inside.\n",
        "    df = df[['longitude', 'latitude', 'time', *list_of_bands]].dropna()\n",
        "\n",
        "    # Convert the data to numeric values.\n",
        "    for band in list_of_bands:\n",
        "        df[band] = pd.to_numeric(df[band], errors='coerce')\n",
        "\n",
        "    # Convert the time field into a datetime.\n",
        "    df['datetime'] = pd.to_datetime(df['time'], unit='ms')\n",
        "\n",
        "    # Keep the columns of interest.\n",
        "    df = df[['time','datetime',  *list_of_bands]]\n",
        "\n",
        "    return df"
      ],
      "metadata": {
        "id": "zCRdD5bqntS_"
      },
      "execution_count": 158,
      "outputs": []
    },
    {
      "cell_type": "code",
      "source": [
        "dmsp_poi = ee_array_to_df(DMSP_poi,['b1'])\n",
        "viirs_poi = ee_array_to_df(VIIRS_poi,['avg_rad'])\n",
        "\n",
        "viirs_poi.head()"
      ],
      "metadata": {
        "id": "YoRvkwZUntVn",
        "outputId": "b037e66c-4b0d-4ada-c1f9-95f12b848021",
        "colab": {
          "base_uri": "https://localhost:8080/",
          "height": 206
        }
      },
      "execution_count": 159,
      "outputs": [
        {
          "output_type": "execute_result",
          "data": {
            "text/plain": [
              "0           time   datetime    avg_rad\n",
              "0  1388534400000 2014-01-01  55.463463\n",
              "1  1391212800000 2014-02-01  72.197014\n",
              "2  1393632000000 2014-03-01  60.484066\n",
              "3  1396310400000 2014-04-01  63.164532\n",
              "4  1398902400000 2014-05-01  52.005966"
            ],
            "text/html": [
              "\n",
              "  <div id=\"df-67dc68ea-a248-4d43-aaa6-2117b7afeead\">\n",
              "    <div class=\"colab-df-container\">\n",
              "      <div>\n",
              "<style scoped>\n",
              "    .dataframe tbody tr th:only-of-type {\n",
              "        vertical-align: middle;\n",
              "    }\n",
              "\n",
              "    .dataframe tbody tr th {\n",
              "        vertical-align: top;\n",
              "    }\n",
              "\n",
              "    .dataframe thead th {\n",
              "        text-align: right;\n",
              "    }\n",
              "</style>\n",
              "<table border=\"1\" class=\"dataframe\">\n",
              "  <thead>\n",
              "    <tr style=\"text-align: right;\">\n",
              "      <th></th>\n",
              "      <th>time</th>\n",
              "      <th>datetime</th>\n",
              "      <th>avg_rad</th>\n",
              "    </tr>\n",
              "  </thead>\n",
              "  <tbody>\n",
              "    <tr>\n",
              "      <th>0</th>\n",
              "      <td>1388534400000</td>\n",
              "      <td>2014-01-01</td>\n",
              "      <td>55.463463</td>\n",
              "    </tr>\n",
              "    <tr>\n",
              "      <th>1</th>\n",
              "      <td>1391212800000</td>\n",
              "      <td>2014-02-01</td>\n",
              "      <td>72.197014</td>\n",
              "    </tr>\n",
              "    <tr>\n",
              "      <th>2</th>\n",
              "      <td>1393632000000</td>\n",
              "      <td>2014-03-01</td>\n",
              "      <td>60.484066</td>\n",
              "    </tr>\n",
              "    <tr>\n",
              "      <th>3</th>\n",
              "      <td>1396310400000</td>\n",
              "      <td>2014-04-01</td>\n",
              "      <td>63.164532</td>\n",
              "    </tr>\n",
              "    <tr>\n",
              "      <th>4</th>\n",
              "      <td>1398902400000</td>\n",
              "      <td>2014-05-01</td>\n",
              "      <td>52.005966</td>\n",
              "    </tr>\n",
              "  </tbody>\n",
              "</table>\n",
              "</div>\n",
              "      <button class=\"colab-df-convert\" onclick=\"convertToInteractive('df-67dc68ea-a248-4d43-aaa6-2117b7afeead')\"\n",
              "              title=\"Convert this dataframe to an interactive table.\"\n",
              "              style=\"display:none;\">\n",
              "        \n",
              "  <svg xmlns=\"http://www.w3.org/2000/svg\" height=\"24px\"viewBox=\"0 0 24 24\"\n",
              "       width=\"24px\">\n",
              "    <path d=\"M0 0h24v24H0V0z\" fill=\"none\"/>\n",
              "    <path d=\"M18.56 5.44l.94 2.06.94-2.06 2.06-.94-2.06-.94-.94-2.06-.94 2.06-2.06.94zm-11 1L8.5 8.5l.94-2.06 2.06-.94-2.06-.94L8.5 2.5l-.94 2.06-2.06.94zm10 10l.94 2.06.94-2.06 2.06-.94-2.06-.94-.94-2.06-.94 2.06-2.06.94z\"/><path d=\"M17.41 7.96l-1.37-1.37c-.4-.4-.92-.59-1.43-.59-.52 0-1.04.2-1.43.59L10.3 9.45l-7.72 7.72c-.78.78-.78 2.05 0 2.83L4 21.41c.39.39.9.59 1.41.59.51 0 1.02-.2 1.41-.59l7.78-7.78 2.81-2.81c.8-.78.8-2.07 0-2.86zM5.41 20L4 18.59l7.72-7.72 1.47 1.35L5.41 20z\"/>\n",
              "  </svg>\n",
              "      </button>\n",
              "      \n",
              "  <style>\n",
              "    .colab-df-container {\n",
              "      display:flex;\n",
              "      flex-wrap:wrap;\n",
              "      gap: 12px;\n",
              "    }\n",
              "\n",
              "    .colab-df-convert {\n",
              "      background-color: #E8F0FE;\n",
              "      border: none;\n",
              "      border-radius: 50%;\n",
              "      cursor: pointer;\n",
              "      display: none;\n",
              "      fill: #1967D2;\n",
              "      height: 32px;\n",
              "      padding: 0 0 0 0;\n",
              "      width: 32px;\n",
              "    }\n",
              "\n",
              "    .colab-df-convert:hover {\n",
              "      background-color: #E2EBFA;\n",
              "      box-shadow: 0px 1px 2px rgba(60, 64, 67, 0.3), 0px 1px 3px 1px rgba(60, 64, 67, 0.15);\n",
              "      fill: #174EA6;\n",
              "    }\n",
              "\n",
              "    [theme=dark] .colab-df-convert {\n",
              "      background-color: #3B4455;\n",
              "      fill: #D2E3FC;\n",
              "    }\n",
              "\n",
              "    [theme=dark] .colab-df-convert:hover {\n",
              "      background-color: #434B5C;\n",
              "      box-shadow: 0px 1px 3px 1px rgba(0, 0, 0, 0.15);\n",
              "      filter: drop-shadow(0px 1px 2px rgba(0, 0, 0, 0.3));\n",
              "      fill: #FFFFFF;\n",
              "    }\n",
              "  </style>\n",
              "\n",
              "      <script>\n",
              "        const buttonEl =\n",
              "          document.querySelector('#df-67dc68ea-a248-4d43-aaa6-2117b7afeead button.colab-df-convert');\n",
              "        buttonEl.style.display =\n",
              "          google.colab.kernel.accessAllowed ? 'block' : 'none';\n",
              "\n",
              "        async function convertToInteractive(key) {\n",
              "          const element = document.querySelector('#df-67dc68ea-a248-4d43-aaa6-2117b7afeead');\n",
              "          const dataTable =\n",
              "            await google.colab.kernel.invokeFunction('convertToInteractive',\n",
              "                                                     [key], {});\n",
              "          if (!dataTable) return;\n",
              "\n",
              "          const docLinkHtml = 'Like what you see? Visit the ' +\n",
              "            '<a target=\"_blank\" href=https://colab.research.google.com/notebooks/data_table.ipynb>data table notebook</a>'\n",
              "            + ' to learn more about interactive tables.';\n",
              "          element.innerHTML = '';\n",
              "          dataTable['output_type'] = 'display_data';\n",
              "          await google.colab.output.renderOutput(dataTable, element);\n",
              "          const docLink = document.createElement('div');\n",
              "          docLink.innerHTML = docLinkHtml;\n",
              "          element.appendChild(docLink);\n",
              "        }\n",
              "      </script>\n",
              "    </div>\n",
              "  </div>\n",
              "  "
            ]
          },
          "metadata": {},
          "execution_count": 159
        }
      ]
    },
    {
      "cell_type": "code",
      "source": [],
      "metadata": {
        "id": "8iT2MnJLntYI"
      },
      "execution_count": null,
      "outputs": []
    },
    {
      "cell_type": "markdown",
      "source": [
        "## Static image"
      ],
      "metadata": {
        "id": "ZjRTvF4Tfh3t"
      }
    },
    {
      "cell_type": "code",
      "source": [
        "# Import the Image function from the IPython.display module.\n",
        "from IPython.display import Image\n",
        "\n",
        "# Display a thumbnail of global nighttime light.\n",
        "Image(url = VIIRS.mean()\n",
        "  .getThumbURL({'min': 0, 'max': 63, 'region': CACounty.filterMetadata(\"COUNTY_NAM\",\"equals\", \"Alameda\").first().geometry(), 'dimensions': 512,\n",
        "                'palette': ['000044','ffff00','ffffff']}))"
      ],
      "metadata": {
        "colab": {
          "base_uri": "https://localhost:8080/",
          "height": 277
        },
        "id": "4AdwsKs3ozOv",
        "outputId": "1f8452a4-dc55-452f-b2c4-35ac9230cfaa"
      },
      "execution_count": 114,
      "outputs": [
        {
          "output_type": "execute_result",
          "data": {
            "text/html": [
              "<img src=\"https://earthengine.googleapis.com/v1alpha/projects/earthengine-legacy/thumbnails/87f8d6a669552c1e4b038e747a4b42e2-0042c1aefdc40d0a304798c4eaefa497:getPixels\"/>"
            ],
            "text/plain": [
              "<IPython.core.display.Image object>"
            ]
          },
          "metadata": {},
          "execution_count": 114
        }
      ]
    },
    {
      "cell_type": "markdown",
      "source": [
        "## Interactive map"
      ],
      "metadata": {
        "id": "s807kb8RflVT"
      }
    },
    {
      "cell_type": "code",
      "source": [
        "# Import the Folium library.\n",
        "import folium\n",
        "\n",
        "# Define a method for displaying Earth Engine image tiles to folium map.\n",
        "def add_ee_layer(self, ee_image_object, vis_params, name):\n",
        "  map_id_dict = ee.Image(ee_image_object).getMapId(vis_params)\n",
        "  folium.raster_layers.TileLayer(\n",
        "    tiles = map_id_dict['tile_fetcher'].url_format,\n",
        "    attr = 'Map Data &copy; <a href=\"https://earthengine.google.com/\">Google Earth Engine</a>',\n",
        "    name = name,\n",
        "    overlay = True,\n",
        "    control = True\n",
        "  ).add_to(self)\n",
        "\n",
        "# Add EE drawing method to folium.\n",
        "folium.Map.add_ee_layer = add_ee_layer\n",
        "\n",
        "# Set visualization parameters.\n",
        "vis_params = {\n",
        "  'min': 0,\n",
        "  'max': 63,\n",
        "  'palette': ['000044','ffff00','ffffff']}\n",
        "\n",
        "# Create a folium map object.\n",
        "my_map = folium.Map(location=[38, -121], zoom_start=5.5)\n",
        "\n",
        "# Add the nighttime light to the map object.\n",
        "my_map.add_ee_layer(NightImage.updateMask(NightImage.gt(0)), vis_params, 'NightImage')\n",
        "\n",
        "# Add a layer control panel to the map.\n",
        "my_map.add_child(folium.LayerControl())\n",
        "\n",
        "# Display the map.\n",
        "display(my_map)"
      ],
      "metadata": {
        "colab": {
          "base_uri": "https://localhost:8080/",
          "height": 966
        },
        "id": "_Eq6ggPVx8un",
        "outputId": "dd511202-b557-4369-db8a-37ca7cdc6f7f"
      },
      "execution_count": 77,
      "outputs": [
        {
          "output_type": "display_data",
          "data": {
            "text/plain": [
              "<folium.folium.Map at 0x7fe93df3a340>"
            ],
            "text/html": [
              "<div style=\"width:100%;\"><div style=\"position:relative;width:100%;height:0;padding-bottom:60%;\"><span style=\"color:#565656\">Make this Notebook Trusted to load map: File -> Trust Notebook</span><iframe srcdoc=\"&lt;!DOCTYPE html&gt;\n",
              "&lt;html&gt;\n",
              "&lt;head&gt;\n",
              "    \n",
              "    &lt;meta http-equiv=&quot;content-type&quot; content=&quot;text/html; charset=UTF-8&quot; /&gt;\n",
              "    \n",
              "        &lt;script&gt;\n",
              "            L_NO_TOUCH = false;\n",
              "            L_DISABLE_3D = false;\n",
              "        &lt;/script&gt;\n",
              "    \n",
              "    &lt;style&gt;html, body {width: 100%;height: 100%;margin: 0;padding: 0;}&lt;/style&gt;\n",
              "    &lt;style&gt;#map {position:absolute;top:0;bottom:0;right:0;left:0;}&lt;/style&gt;\n",
              "    &lt;script src=&quot;https://cdn.jsdelivr.net/npm/leaflet@1.9.3/dist/leaflet.js&quot;&gt;&lt;/script&gt;\n",
              "    &lt;script src=&quot;https://code.jquery.com/jquery-1.12.4.min.js&quot;&gt;&lt;/script&gt;\n",
              "    &lt;script src=&quot;https://cdn.jsdelivr.net/npm/bootstrap@5.2.2/dist/js/bootstrap.bundle.min.js&quot;&gt;&lt;/script&gt;\n",
              "    &lt;script src=&quot;https://cdnjs.cloudflare.com/ajax/libs/Leaflet.awesome-markers/2.0.2/leaflet.awesome-markers.js&quot;&gt;&lt;/script&gt;\n",
              "    &lt;link rel=&quot;stylesheet&quot; href=&quot;https://cdn.jsdelivr.net/npm/leaflet@1.9.3/dist/leaflet.css&quot;/&gt;\n",
              "    &lt;link rel=&quot;stylesheet&quot; href=&quot;https://cdn.jsdelivr.net/npm/bootstrap@5.2.2/dist/css/bootstrap.min.css&quot;/&gt;\n",
              "    &lt;link rel=&quot;stylesheet&quot; href=&quot;https://netdna.bootstrapcdn.com/bootstrap/3.0.0/css/bootstrap.min.css&quot;/&gt;\n",
              "    &lt;link rel=&quot;stylesheet&quot; href=&quot;https://cdn.jsdelivr.net/npm/@fortawesome/fontawesome-free@6.2.0/css/all.min.css&quot;/&gt;\n",
              "    &lt;link rel=&quot;stylesheet&quot; href=&quot;https://cdnjs.cloudflare.com/ajax/libs/Leaflet.awesome-markers/2.0.2/leaflet.awesome-markers.css&quot;/&gt;\n",
              "    &lt;link rel=&quot;stylesheet&quot; href=&quot;https://cdn.jsdelivr.net/gh/python-visualization/folium/folium/templates/leaflet.awesome.rotate.min.css&quot;/&gt;\n",
              "    \n",
              "            &lt;meta name=&quot;viewport&quot; content=&quot;width=device-width,\n",
              "                initial-scale=1.0, maximum-scale=1.0, user-scalable=no&quot; /&gt;\n",
              "            &lt;style&gt;\n",
              "                #map_a78a77dde77e3241166c0b7da49ab392 {\n",
              "                    position: relative;\n",
              "                    width: 100.0%;\n",
              "                    height: 100.0%;\n",
              "                    left: 0.0%;\n",
              "                    top: 0.0%;\n",
              "                }\n",
              "                .leaflet-container { font-size: 1rem; }\n",
              "            &lt;/style&gt;\n",
              "        \n",
              "&lt;/head&gt;\n",
              "&lt;body&gt;\n",
              "    \n",
              "    \n",
              "            &lt;div class=&quot;folium-map&quot; id=&quot;map_a78a77dde77e3241166c0b7da49ab392&quot; &gt;&lt;/div&gt;\n",
              "        \n",
              "&lt;/body&gt;\n",
              "&lt;script&gt;\n",
              "    \n",
              "    \n",
              "            var map_a78a77dde77e3241166c0b7da49ab392 = L.map(\n",
              "                &quot;map_a78a77dde77e3241166c0b7da49ab392&quot;,\n",
              "                {\n",
              "                    center: [38.0, -121.0],\n",
              "                    crs: L.CRS.EPSG3857,\n",
              "                    zoom: 5.5,\n",
              "                    zoomControl: true,\n",
              "                    preferCanvas: false,\n",
              "                }\n",
              "            );\n",
              "\n",
              "            \n",
              "\n",
              "        \n",
              "    \n",
              "            var tile_layer_b3012090f6d5a4e285ddbb9a51649fe0 = L.tileLayer(\n",
              "                &quot;https://{s}.tile.openstreetmap.org/{z}/{x}/{y}.png&quot;,\n",
              "                {&quot;attribution&quot;: &quot;Data by \\u0026copy; \\u003ca target=\\&quot;_blank\\&quot; href=\\&quot;http://openstreetmap.org\\&quot;\\u003eOpenStreetMap\\u003c/a\\u003e, under \\u003ca target=\\&quot;_blank\\&quot; href=\\&quot;http://www.openstreetmap.org/copyright\\&quot;\\u003eODbL\\u003c/a\\u003e.&quot;, &quot;detectRetina&quot;: false, &quot;maxNativeZoom&quot;: 18, &quot;maxZoom&quot;: 18, &quot;minZoom&quot;: 0, &quot;noWrap&quot;: false, &quot;opacity&quot;: 1, &quot;subdomains&quot;: &quot;abc&quot;, &quot;tms&quot;: false}\n",
              "            ).addTo(map_a78a77dde77e3241166c0b7da49ab392);\n",
              "        \n",
              "    \n",
              "            var tile_layer_8a0e859cfe6cc626c69598da15149a36 = L.tileLayer(\n",
              "                &quot;https://earthengine.googleapis.com/v1alpha/projects/earthengine-legacy/maps/034d36f4c9ae6c17445d698e270e553f-a1a97d24ecfe747132bdcd531bcfca43/tiles/{z}/{x}/{y}&quot;,\n",
              "                {&quot;attribution&quot;: &quot;Map Data \\u0026copy; \\u003ca href=\\&quot;https://earthengine.google.com/\\&quot;\\u003eGoogle Earth Engine\\u003c/a\\u003e&quot;, &quot;detectRetina&quot;: false, &quot;maxNativeZoom&quot;: 18, &quot;maxZoom&quot;: 18, &quot;minZoom&quot;: 0, &quot;noWrap&quot;: false, &quot;opacity&quot;: 1, &quot;subdomains&quot;: &quot;abc&quot;, &quot;tms&quot;: false}\n",
              "            ).addTo(map_a78a77dde77e3241166c0b7da49ab392);\n",
              "        \n",
              "    \n",
              "            var layer_control_220fe7c5fd3075188af9ea25028309b1 = {\n",
              "                base_layers : {\n",
              "                    &quot;openstreetmap&quot; : tile_layer_b3012090f6d5a4e285ddbb9a51649fe0,\n",
              "                },\n",
              "                overlays :  {\n",
              "                    &quot;NightImage&quot; : tile_layer_8a0e859cfe6cc626c69598da15149a36,\n",
              "                },\n",
              "            };\n",
              "            L.control.layers(\n",
              "                layer_control_220fe7c5fd3075188af9ea25028309b1.base_layers,\n",
              "                layer_control_220fe7c5fd3075188af9ea25028309b1.overlays,\n",
              "                {&quot;autoZIndex&quot;: true, &quot;collapsed&quot;: true, &quot;position&quot;: &quot;topright&quot;}\n",
              "            ).addTo(map_a78a77dde77e3241166c0b7da49ab392);\n",
              "        \n",
              "&lt;/script&gt;\n",
              "&lt;/html&gt;\" style=\"position:absolute;width:100%;height:100%;left:0;top:0;border:none !important;\" allowfullscreen webkitallowfullscreen mozallowfullscreen></iframe></div></div>"
            ]
          },
          "metadata": {}
        }
      ]
    },
    {
      "cell_type": "markdown",
      "source": [
        "### DMSP/OLS Nighttime Lights\n"
      ],
      "metadata": {
        "id": "KtfXKQqimpPC"
      }
    },
    {
      "cell_type": "code",
      "source": [],
      "metadata": {
        "id": "c9RkOuFgncE6"
      },
      "execution_count": null,
      "outputs": []
    },
    {
      "cell_type": "markdown",
      "source": [
        "### VIIRS Nighttime Light"
      ],
      "metadata": {
        "id": "RlfROAOCncko"
      }
    },
    {
      "cell_type": "code",
      "source": [],
      "metadata": {
        "id": "yk1g7SA8moWr"
      },
      "execution_count": null,
      "outputs": []
    },
    {
      "cell_type": "markdown",
      "source": [
        "### References\n",
        "\n",
        "*   https://colab.research.google.com/github/google/earthengine-api/blob/master/python/examples/ipynb/ee-api-colab-setup.ipynb\n",
        "*   https://colab.research.google.com/github/google/earthengine-community/blob/master/tutorials/intro-to-python-api/index.ipynb\n"
      ],
      "metadata": {
        "id": "xL1rOH1H_Ip8"
      }
    }
  ]
}