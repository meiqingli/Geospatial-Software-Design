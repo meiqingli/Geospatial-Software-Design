{
  "nbformat": 4,
  "nbformat_minor": 0,
  "metadata": {
    "colab": {
      "provenance": [],
      "toc_visible": true,
      "machine_shape": "hm",
      "include_colab_link": true
    },
    "kernelspec": {
      "name": "python3",
      "display_name": "Python 3"
    },
    "language_info": {
      "name": "python"
    },
    "accelerator": "GPU",
    "gpuClass": "premium"
  },
  "cells": [
    {
      "cell_type": "markdown",
      "metadata": {
        "id": "view-in-github",
        "colab_type": "text"
      },
      "source": [
        "<a href=\"https://colab.research.google.com/github/meiqingli/Geospatial-Software-Design/blob/master/D_Lab_Demo.ipynb\" target=\"_parent\"><img src=\"https://colab.research.google.com/assets/colab-badge.svg\" alt=\"Open In Colab\"/></a>"
      ]
    },
    {
      "cell_type": "markdown",
      "source": [
        "# Extracting Time-Series Satellite Images with Google Earth Engine Python API\n",
        "\n",
        "by: Meiqing Li (meiqing@berkeley.edu), D-Lab Data Science Fellow"
      ],
      "metadata": {
        "id": "SaH3f2dFcaUX"
      }
    },
    {
      "cell_type": "markdown",
      "source": [
        "This notebook demonstrates the process to filter, classify, resample, and visualiza time-series satellite images using Google Earth Engine Python API. "
      ],
      "metadata": {
        "id": "B7DRqpDVnnbQ"
      }
    },
    {
      "cell_type": "markdown",
      "source": [
        "### API Setup: import, authenticate and initialize\n",
        "\n",
        "Beofre running the code, we need to first import the Google Earth Enginer API. Since the Earth Engine API is installed by default in Google Colaboratory, I don't need to install it here. "
      ],
      "metadata": {
        "id": "wlgRqNYJptdf"
      }
    },
    {
      "cell_type": "code",
      "source": [
        "import ee"
      ],
      "metadata": {
        "id": "AgcpSljwcg4X"
      },
      "execution_count": 1,
      "outputs": []
    },
    {
      "cell_type": "code",
      "source": [
        "# Trigger the authentication flow.\n",
        "ee.Authenticate()\n",
        "\n",
        "# Initialize the library.\n",
        "ee.Initialize()"
      ],
      "metadata": {
        "colab": {
          "base_uri": "https://localhost:8080/"
        },
        "id": "SSUqL6yncr3R",
        "outputId": "c68cdf76-94d6-46c1-8fe8-be60a96d82ad"
      },
      "execution_count": 2,
      "outputs": [
        {
          "output_type": "stream",
          "name": "stdout",
          "text": [
            "To authorize access needed by Earth Engine, open the following URL in a web browser and follow the instructions. If the web browser does not start automatically, please manually browse the URL below.\n",
            "\n",
            "    https://code.earthengine.google.com/client-auth?scopes=https%3A//www.googleapis.com/auth/earthengine%20https%3A//www.googleapis.com/auth/devstorage.full_control&request_id=qLJqTz7e1xya_2XxnnXNOYOd19x75uNS4xV65Qj-_dc&tc=w_SKdMI0xNgCwZTKf2FcnZFpO403BepMDE8OqV8KiV0&cc=RRnSUS8gdK-6IK0sK3E1f_mPCqjQPN8PYoZ2z0YUguQ\n",
            "\n",
            "The authorization workflow will generate a code, which you should paste in the box below.\n",
            "Enter verification code: 4/1AVHEtk7I-T7FosUDVuxuQzUfKBbppR4PKV5rYjiFjlenmrLUVT48pZ5d7YA\n",
            "\n",
            "Successfully saved authorization token.\n"
          ]
        }
      ]
    },
    {
      "cell_type": "markdown",
      "source": [
        "### Explore Earth Engine Data Catalog\n",
        "\n",
        "[The Earth Engine Data Catalog](https://developers.google.com/earth-engine/datasets/catalog) "
      ],
      "metadata": {
        "id": "VBo55HAZriPD"
      }
    },
    {
      "cell_type": "code",
      "source": [
        "# Print the elevation of Mount Everest.\n",
        "dem = ee.Image('USGS/SRTMGL1_003')\n",
        "xy = ee.Geometry.Point([86.9250, 27.9881])\n",
        "elev = dem.sample(xy, 30).first().get('elevation').getInfo()\n",
        "print('Mount Everest elevation (m):', elev)"
      ],
      "metadata": {
        "colab": {
          "base_uri": "https://localhost:8080/"
        },
        "id": "TA4qSNMOd-92",
        "outputId": "5b8e68d6-5e57-46ba-fbfb-6e32a90350a8"
      },
      "execution_count": 3,
      "outputs": [
        {
          "output_type": "stream",
          "name": "stdout",
          "text": [
            "Mount Everest elevation (m): 8729\n"
          ]
        }
      ]
    },
    {
      "cell_type": "markdown",
      "source": [
        "https://code.earthengine.google.com/1ec1d414a4c5b03bbb0a7d6c19b5a748\n",
        "https://code.earthengine.google.com/291961fe8406ca4c75ecea4ef3f33435\n",
        "\n",
        "VIIRS - Nighttime Light Image\n"
      ],
      "metadata": {
        "id": "Lfvwi2l0eVbi"
      }
    },
    {
      "cell_type": "code",
      "source": [
        "# Print the elevation of Mount Everest.\n",
        "dem = ee.Image('USGS/SRTMGL1_003')\n",
        "xy = ee.Geometry.Point([86.9250, 27.9881])\n",
        "elev = dem.sample(xy, 30).first().get('elevation').getInfo()\n",
        "print('Mount Everest elevation (m):', elev)"
      ],
      "metadata": {
        "colab": {
          "base_uri": "https://localhost:8080/"
        },
        "id": "s5Xph0t8ecYV",
        "outputId": "a1402b89-d3e0-46ac-b4f8-df8e33f7870e"
      },
      "execution_count": null,
      "outputs": [
        {
          "output_type": "stream",
          "name": "stdout",
          "text": [
            "Mount Everest elevation (m): 8729\n"
          ]
        }
      ]
    },
    {
      "cell_type": "markdown",
      "source": [
        "### Import Features"
      ],
      "metadata": {
        "id": "iVP-u2tbd16t"
      }
    },
    {
      "cell_type": "code",
      "source": [
        "# I have uploaded CA county boundaries through GEE console (add more description here)\n",
        "CACounty = ee.FeatureCollection(\"projects/spherical-depth-278922/assets/California_County_Boundaries\")\n",
        "print(CACounty)"
      ],
      "metadata": {
        "colab": {
          "base_uri": "https://localhost:8080/"
        },
        "id": "KDcTm7aid_DY",
        "outputId": "7ebd5904-36c2-4576-a1e6-8fc37c4b3039"
      },
      "execution_count": 13,
      "outputs": [
        {
          "output_type": "stream",
          "name": "stdout",
          "text": [
            "<bound method Collection.getInfo of <ee.featurecollection.FeatureCollection object at 0x7fe90fe24400>>\n"
          ]
        }
      ]
    },
    {
      "cell_type": "code",
      "source": [
        "## night Lighting in 2013\n",
        "NightImage = ee.Image('NOAA/DMSP-OLS/NIGHTTIME_LIGHTS/F182013')\n",
        "# print(NightImage)"
      ],
      "metadata": {
        "id": "_I6mxDW3iwNM"
      },
      "execution_count": 11,
      "outputs": []
    },
    {
      "cell_type": "code",
      "source": [
        "## check different bands - select band 1\n",
        "NightImage = ee.Image('NOAA/DMSP-OLS/NIGHTTIME_LIGHTS/F182013').expression('b(1)')\n",
        "# print(NightImage)"
      ],
      "metadata": {
        "id": "BnrFxa8hiwPp"
      },
      "execution_count": 20,
      "outputs": []
    },
    {
      "cell_type": "code",
      "source": [
        "## Get statewide geometry for later use \n",
        "statewideGEOMETRY = CACounty.geometry()\n",
        "# print(statewideGEOMETRY)"
      ],
      "metadata": {
        "id": "Q7nQc_eDiwSV"
      },
      "execution_count": 16,
      "outputs": []
    },
    {
      "cell_type": "code",
      "source": [
        "## Clip the images to sample areas\n",
        "NightImage_CA = NightImage.clip(CACounty)"
      ],
      "metadata": {
        "id": "EUiO5PNolG5u"
      },
      "execution_count": 21,
      "outputs": []
    },
    {
      "cell_type": "code",
      "source": [
        "## Create an empty image into which to paint the features, cast to byte.\n",
        "empty = ee.Image().byte()\n",
        "\n",
        "## Paint all the polygon edges with the same number and width, display.\n",
        "outline = empty.paint({featureCollection: CACounty, color: 1, width: 2})\n",
        "Map.addLayer(outline, {palette: 'FFFFFF', opacity: 0.5}, 'CA Counties')\n",
        "\n",
        "## Map.addLayer(CACounty,{color: '#EFC5C5', opacity: 0.1 },'CA Counties')\n",
        "Map.addLayer(NightImage, {min: 0, max: 63, palette: ['000044','ffff00','ffffff'], opacity: 0.5},'Stable Light')\n",
        "Map.centerObject(CACounty, 6);\n",
        "county = CACounty.first()\n",
        "county = ee.Feature(county)\n",
        "print('One County Feature',county)"
      ],
      "metadata": {
        "id": "OCEIL9GvpD1k"
      },
      "execution_count": null,
      "outputs": []
    },
    {
      "cell_type": "markdown",
      "source": [
        "## Static image"
      ],
      "metadata": {
        "id": "ZjRTvF4Tfh3t"
      }
    },
    {
      "cell_type": "code",
      "source": [
        "# Import the Image function from the IPython.display module.\n",
        "from IPython.display import Image\n",
        "\n",
        "# Display a thumbnail of global nighttime light.\n",
        "Image(url = NightImage.updateMask(NightImage.gt(0))\n",
        "  .getThumbURL({'min': 0, 'max': 63, 'region': CACounty.filterMetadata(\"COUNTY_NAM\",\"equals\", \"Contra Costa\").first().geometry(), 'dimensions': 512,\n",
        "                'palette': ['000044','ffff00','ffffff']}))"
      ],
      "metadata": {
        "id": "4AdwsKs3ozOv",
        "outputId": "a0cd9efc-b740-47d2-92b6-86424f813f42",
        "colab": {
          "base_uri": "https://localhost:8080/",
          "height": 239
        }
      },
      "execution_count": 72,
      "outputs": [
        {
          "output_type": "execute_result",
          "data": {
            "text/html": [
              "<img src=\"https://earthengine.googleapis.com/v1alpha/projects/earthengine-legacy/thumbnails/0fe1c76e95750455449281feecba6f6d-18aca7d71c754c49ab9051e22fcb0039:getPixels\"/>"
            ],
            "text/plain": [
              "<IPython.core.display.Image object>"
            ]
          },
          "metadata": {},
          "execution_count": 72
        }
      ]
    },
    {
      "cell_type": "markdown",
      "source": [
        "## Interactive map"
      ],
      "metadata": {
        "id": "s807kb8RflVT"
      }
    },
    {
      "cell_type": "code",
      "source": [
        "# Import the Folium library.\n",
        "import folium\n",
        "\n",
        "# Define a method for displaying Earth Engine image tiles to folium map.\n",
        "def add_ee_layer(self, ee_image_object, vis_params, name):\n",
        "  map_id_dict = ee.Image(ee_image_object).getMapId(vis_params)\n",
        "  folium.raster_layers.TileLayer(\n",
        "    tiles = map_id_dict['tile_fetcher'].url_format,\n",
        "    attr = 'Map Data &copy; <a href=\"https://earthengine.google.com/\">Google Earth Engine</a>',\n",
        "    name = name,\n",
        "    overlay = True,\n",
        "    control = True\n",
        "  ).add_to(self)\n",
        "\n",
        "# Add EE drawing method to folium.\n",
        "folium.Map.add_ee_layer = add_ee_layer\n",
        "\n",
        "# Set visualization parameters.\n",
        "vis_params = {\n",
        "  'min': 0,\n",
        "  'max': 63,\n",
        "  'palette': ['000044','ffff00','ffffff']}\n",
        "\n",
        "# Create a folium map object.\n",
        "my_map = folium.Map(location=[38, -121], zoom_start=5.5)\n",
        "\n",
        "# Add the CA county boundary to the map object.\n",
        "my_map.add_ee_layer(CACounty.updateMask(CACounty.gt(0)), 'CA County')\n",
        "\n",
        "# Add the nighttime light to the map object.\n",
        "my_map.add_ee_layer(NightImage_CA.updateMask(NightImage_CA.gt(0)), vis_params, 'NightImage')\n",
        "\n",
        "# Add a layer control panel to the map.\n",
        "my_map.add_child(folium.LayerControl())\n",
        "\n",
        "# Display the map.\n",
        "display(my_map)"
      ],
      "metadata": {
        "id": "_Eq6ggPVx8un",
        "outputId": "9e0114ce-876c-4eca-8d29-f1d2e3d88f47",
        "colab": {
          "base_uri": "https://localhost:8080/",
          "height": 235
        }
      },
      "execution_count": 47,
      "outputs": [
        {
          "output_type": "error",
          "ename": "AttributeError",
          "evalue": "ignored",
          "traceback": [
            "\u001b[0;31m---------------------------------------------------------------------------\u001b[0m",
            "\u001b[0;31mAttributeError\u001b[0m                            Traceback (most recent call last)",
            "\u001b[0;32m<ipython-input-47-4114f68c2652>\u001b[0m in \u001b[0;36m<cell line: 28>\u001b[0;34m()\u001b[0m\n\u001b[1;32m     26\u001b[0m \u001b[0;34m\u001b[0m\u001b[0m\n\u001b[1;32m     27\u001b[0m \u001b[0;31m# Add the CA county boundary to the map object.\u001b[0m\u001b[0;34m\u001b[0m\u001b[0;34m\u001b[0m\u001b[0m\n\u001b[0;32m---> 28\u001b[0;31m \u001b[0mmy_map\u001b[0m\u001b[0;34m.\u001b[0m\u001b[0madd_ee_layer\u001b[0m\u001b[0;34m(\u001b[0m\u001b[0mCACounty\u001b[0m\u001b[0;34m.\u001b[0m\u001b[0mupdateMask\u001b[0m\u001b[0;34m(\u001b[0m\u001b[0mCACounty\u001b[0m\u001b[0;34m.\u001b[0m\u001b[0mgt\u001b[0m\u001b[0;34m(\u001b[0m\u001b[0;36m0\u001b[0m\u001b[0;34m)\u001b[0m\u001b[0;34m)\u001b[0m\u001b[0;34m,\u001b[0m \u001b[0;34m'CA County'\u001b[0m\u001b[0;34m)\u001b[0m\u001b[0;34m\u001b[0m\u001b[0;34m\u001b[0m\u001b[0m\n\u001b[0m\u001b[1;32m     29\u001b[0m \u001b[0;34m\u001b[0m\u001b[0m\n\u001b[1;32m     30\u001b[0m \u001b[0;31m# Add the nighttime light to the map object.\u001b[0m\u001b[0;34m\u001b[0m\u001b[0;34m\u001b[0m\u001b[0m\n",
            "\u001b[0;31mAttributeError\u001b[0m: 'FeatureCollection' object has no attribute 'updateMask'"
          ]
        }
      ]
    },
    {
      "cell_type": "markdown",
      "source": [
        "### DMSP/OLS Nighttime Lights\n"
      ],
      "metadata": {
        "id": "KtfXKQqimpPC"
      }
    },
    {
      "cell_type": "code",
      "source": [],
      "metadata": {
        "id": "c9RkOuFgncE6"
      },
      "execution_count": null,
      "outputs": []
    },
    {
      "cell_type": "markdown",
      "source": [
        "### VIIRS Nighttime Light"
      ],
      "metadata": {
        "id": "RlfROAOCncko"
      }
    },
    {
      "cell_type": "code",
      "source": [],
      "metadata": {
        "id": "yk1g7SA8moWr"
      },
      "execution_count": null,
      "outputs": []
    },
    {
      "cell_type": "markdown",
      "source": [
        "### References\n",
        "\n",
        "Google Earth Engine Python API: \n",
        "https://colab.research.google.com/github/google/earthengine-api/blob/master/python/examples/ipynb/ee-api-colab-setup.ipynb\n",
        "\n",
        "https://colab.research.google.com/github/google/earthengine-community/blob/master/tutorials/intro-to-python-api/index.ipynb\n",
        "\n",
        "https://developers.google.com/earth-engine/datasets/catalog\n"
      ],
      "metadata": {
        "id": "xL1rOH1H_Ip8"
      }
    }
  ]
}